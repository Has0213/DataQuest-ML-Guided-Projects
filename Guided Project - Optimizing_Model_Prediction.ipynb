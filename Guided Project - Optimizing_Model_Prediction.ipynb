{
 "cells": [
  {
   "cell_type": "markdown",
   "metadata": {},
   "source": [
    "### Guided Project - Optimizing Model Prediction\n",
    "\n",
    "The aim of this project is to predict the extent of fire damage to a forest. The data comes from the [Forest Fires](https://archive.ics.uci.edu/ml/datasets/Forest+Fires) dataset from the UCI Machine Learning Repository.\n",
    "\n",
    "This dataset contains information on fires, resulting damage and associated meteorological data. We will further analyze characteristics that will be useful in predicting future fire damage and use for the model."
   ]
  },
  {
   "cell_type": "code",
   "execution_count": 1,
   "metadata": {},
   "outputs": [],
   "source": [
    "#import the libraries\n",
    "import pandas as pd\n",
    "import numpy as np\n",
    "import seaborn as sns\n",
    "import matplotlib.pyplot as plt\n",
    "%matplotlib inline\n",
    "\n",
    "from sklearn.linear_model import LinearRegression\n",
    "from sklearn.impute import SimpleImputer\n",
    "from sklearn.model_selection import cross_val_score\n",
    "from sklearn.metrics import mean_squared_error\n",
    "from sklearn.impute import KNNImputer\n",
    "from sklearn.preprocessing import StandardScaler\n",
    "from sklearn.feature_selection import SequentialFeatureSelector"
   ]
  },
  {
   "cell_type": "code",
   "execution_count": 2,
   "metadata": {},
   "outputs": [],
   "source": [
    "#read the data set and save as fires\n",
    "fires = pd.read_csv('fires.csv')"
   ]
  },
  {
   "cell_type": "markdown",
   "metadata": {},
   "source": [
    "### Data Exploration"
   ]
  },
  {
   "cell_type": "code",
   "execution_count": 3,
   "metadata": {},
   "outputs": [
    {
     "data": {
      "text/plain": [
       "(517, 14)"
      ]
     },
     "execution_count": 3,
     "metadata": {},
     "output_type": "execute_result"
    }
   ],
   "source": [
    "#rows and the columns in the dataset\n",
    "fires.shape"
   ]
  },
  {
   "cell_type": "code",
   "execution_count": 4,
   "metadata": {},
   "outputs": [
    {
     "data": {
      "text/html": [
       "<div>\n",
       "<style scoped>\n",
       "    .dataframe tbody tr th:only-of-type {\n",
       "        vertical-align: middle;\n",
       "    }\n",
       "\n",
       "    .dataframe tbody tr th {\n",
       "        vertical-align: top;\n",
       "    }\n",
       "\n",
       "    .dataframe thead th {\n",
       "        text-align: right;\n",
       "    }\n",
       "</style>\n",
       "<table border=\"1\" class=\"dataframe\">\n",
       "  <thead>\n",
       "    <tr style=\"text-align: right;\">\n",
       "      <th></th>\n",
       "      <th>Unnamed: 0</th>\n",
       "      <th>X</th>\n",
       "      <th>Y</th>\n",
       "      <th>month</th>\n",
       "      <th>day</th>\n",
       "      <th>FFMC</th>\n",
       "      <th>DMC</th>\n",
       "      <th>DC</th>\n",
       "      <th>ISI</th>\n",
       "      <th>temp</th>\n",
       "      <th>RH</th>\n",
       "      <th>wind</th>\n",
       "      <th>rain</th>\n",
       "      <th>area</th>\n",
       "    </tr>\n",
       "  </thead>\n",
       "  <tbody>\n",
       "    <tr>\n",
       "      <th>0</th>\n",
       "      <td>1</td>\n",
       "      <td>7</td>\n",
       "      <td>5</td>\n",
       "      <td>mar</td>\n",
       "      <td>fri</td>\n",
       "      <td>86.2</td>\n",
       "      <td>26.2</td>\n",
       "      <td>94.3</td>\n",
       "      <td>5.1</td>\n",
       "      <td>NaN</td>\n",
       "      <td>51.0</td>\n",
       "      <td>6.7</td>\n",
       "      <td>0.0</td>\n",
       "      <td>0.0</td>\n",
       "    </tr>\n",
       "    <tr>\n",
       "      <th>1</th>\n",
       "      <td>2</td>\n",
       "      <td>7</td>\n",
       "      <td>4</td>\n",
       "      <td>oct</td>\n",
       "      <td>tue</td>\n",
       "      <td>90.6</td>\n",
       "      <td>NaN</td>\n",
       "      <td>669.1</td>\n",
       "      <td>6.7</td>\n",
       "      <td>18.0</td>\n",
       "      <td>33.0</td>\n",
       "      <td>0.9</td>\n",
       "      <td>0.0</td>\n",
       "      <td>0.0</td>\n",
       "    </tr>\n",
       "    <tr>\n",
       "      <th>2</th>\n",
       "      <td>3</td>\n",
       "      <td>7</td>\n",
       "      <td>4</td>\n",
       "      <td>oct</td>\n",
       "      <td>sat</td>\n",
       "      <td>90.6</td>\n",
       "      <td>43.7</td>\n",
       "      <td>NaN</td>\n",
       "      <td>6.7</td>\n",
       "      <td>14.6</td>\n",
       "      <td>33.0</td>\n",
       "      <td>1.3</td>\n",
       "      <td>0.0</td>\n",
       "      <td>0.0</td>\n",
       "    </tr>\n",
       "  </tbody>\n",
       "</table>\n",
       "</div>"
      ],
      "text/plain": [
       "   Unnamed: 0  X  Y month  day  FFMC   DMC     DC  ISI  temp    RH  wind  \\\n",
       "0           1  7  5   mar  fri  86.2  26.2   94.3  5.1   NaN  51.0   6.7   \n",
       "1           2  7  4   oct  tue  90.6   NaN  669.1  6.7  18.0  33.0   0.9   \n",
       "2           3  7  4   oct  sat  90.6  43.7    NaN  6.7  14.6  33.0   1.3   \n",
       "\n",
       "   rain  area  \n",
       "0   0.0   0.0  \n",
       "1   0.0   0.0  \n",
       "2   0.0   0.0  "
      ]
     },
     "execution_count": 4,
     "metadata": {},
     "output_type": "execute_result"
    }
   ],
   "source": [
    "fires.head(3)"
   ]
  },
  {
   "cell_type": "code",
   "execution_count": 5,
   "metadata": {},
   "outputs": [
    {
     "name": "stdout",
     "output_type": "stream",
     "text": [
      "<class 'pandas.core.frame.DataFrame'>\n",
      "RangeIndex: 517 entries, 0 to 516\n",
      "Data columns (total 14 columns):\n",
      " #   Column      Non-Null Count  Dtype  \n",
      "---  ------      --------------  -----  \n",
      " 0   Unnamed: 0  517 non-null    int64  \n",
      " 1   X           517 non-null    int64  \n",
      " 2   Y           517 non-null    int64  \n",
      " 3   month       517 non-null    object \n",
      " 4   day         517 non-null    object \n",
      " 5   FFMC        469 non-null    float64\n",
      " 6   DMC         496 non-null    float64\n",
      " 7   DC          474 non-null    float64\n",
      " 8   ISI         515 non-null    float64\n",
      " 9   temp        496 non-null    float64\n",
      " 10  RH          487 non-null    float64\n",
      " 11  wind        482 non-null    float64\n",
      " 12  rain        485 non-null    float64\n",
      " 13  area        517 non-null    float64\n",
      "dtypes: float64(9), int64(3), object(2)\n",
      "memory usage: 56.7+ KB\n"
     ]
    }
   ],
   "source": [
    "fires.info()"
   ]
  },
  {
   "cell_type": "code",
   "execution_count": 6,
   "metadata": {},
   "outputs": [
    {
     "data": {
      "text/plain": [
       "Unnamed: 0     0\n",
       "X              0\n",
       "Y              0\n",
       "month          0\n",
       "day            0\n",
       "FFMC          48\n",
       "DMC           21\n",
       "DC            43\n",
       "ISI            2\n",
       "temp          21\n",
       "RH            30\n",
       "wind          35\n",
       "rain          32\n",
       "area           0\n",
       "dtype: int64"
      ]
     },
     "execution_count": 6,
     "metadata": {},
     "output_type": "execute_result"
    }
   ],
   "source": [
    "#display the null values\n",
    "fires.isnull().sum()"
   ]
  },
  {
   "cell_type": "markdown",
   "metadata": {},
   "source": [
    "From the above we can see that there is some null values in the dataset for some columns."
   ]
  },
  {
   "cell_type": "code",
   "execution_count": 7,
   "metadata": {},
   "outputs": [
    {
     "data": {
      "image/png": "[encoded data removed]",
      "text/plain": [
       "<Figure size 1200x1000 with 12 Axes>"
      ]
     },
     "metadata": {},
     "output_type": "display_data"
    }
   ],
   "source": [
    "#Display the hitogram\n",
    "fires.hist(figsize = (12, 10))\n",
    "plt.tight_layout()\n",
    "plt.show()"
   ]
  },
  {
   "cell_type": "code",
   "execution_count": 8,
   "metadata": {},
   "outputs": [
    {
     "data": {
      "text/plain": [
       "<AxesSubplot:>"
      ]
     },
     "execution_count": 8,
     "metadata": {},
     "output_type": "execute_result"
    },
    {
     "data": {
      "image/png": "[encoded data removed]",
      "text/plain": [
       "<Figure size 640x480 with 1 Axes>"
      ]
     },
     "metadata": {},
     "output_type": "display_data"
    }
   ],
   "source": [
    "fires['area'].hist()"
   ]
  },
  {
   "cell_type": "markdown",
   "metadata": {},
   "source": [
    "The output looks highly skewed to the left. we will log transform the data. Note since that some of the outcomes are actually zero, we can add 1 to prevent any errors."
   ]
  },
  {
   "cell_type": "code",
   "execution_count": 9,
   "metadata": {},
   "outputs": [
    {
     "data": {
      "text/plain": [
       "array([[<AxesSubplot:title={'center':'log_area'}>]], dtype=object)"
      ]
     },
     "execution_count": 9,
     "metadata": {},
     "output_type": "execute_result"
    },
    {
     "data": {
      "image/png": "[encoded data removed]",
      "text/plain": [
       "<Figure size 640x480 with 1 Axes>"
      ]
     },
     "metadata": {},
     "output_type": "display_data"
    }
   ],
   "source": [
    "fires['log_area'] = np.log(fires['area'] + 1)\n",
    "fires.hist(\"log_area\", bins = 30 )"
   ]
  },
  {
   "cell_type": "markdown",
   "metadata": {},
   "source": [
    "#### Data Transformation"
   ]
  },
  {
   "cell_type": "code",
   "execution_count": 10,
   "metadata": {},
   "outputs": [
    {
     "data": {
      "text/plain": [
       "aug    184\n",
       "sep    172\n",
       "mar     54\n",
       "jul     32\n",
       "feb     20\n",
       "jun     17\n",
       "oct     15\n",
       "apr      9\n",
       "dec      9\n",
       "jan      2\n",
       "may      2\n",
       "nov      1\n",
       "Name: month, dtype: int64"
      ]
     },
     "execution_count": 10,
     "metadata": {},
     "output_type": "execute_result"
    }
   ],
   "source": [
    "#value count for column month\n",
    "fires['month'].value_counts()"
   ]
  },
  {
   "cell_type": "code",
   "execution_count": 11,
   "metadata": {},
   "outputs": [
    {
     "data": {
      "text/plain": [
       "sun    95\n",
       "fri    85\n",
       "sat    84\n",
       "mon    74\n",
       "tue    64\n",
       "thu    61\n",
       "wed    54\n",
       "Name: day, dtype: int64"
      ]
     },
     "execution_count": 11,
     "metadata": {},
     "output_type": "execute_result"
    }
   ],
   "source": [
    "#value count for column day\n",
    "fires['day'].value_counts()"
   ]
  },
  {
   "cell_type": "code",
   "execution_count": 12,
   "metadata": {},
   "outputs": [],
   "source": [
    "#convert month and day columns to numeric\n",
    "month_dict = {'jan':1, 'feb':2,'mar':3, 'apr':4, 'may':5,'jun':6,'jul':7,'aug':8,'sep':9,'oct':10,'nov':11,'dec':12}\n",
    "day_dict = {'mon':1,'tue':2,'wed':3,'thu':4,'fri':5,'sat':6,'sun':7}"
   ]
  },
  {
   "cell_type": "code",
   "execution_count": 13,
   "metadata": {},
   "outputs": [],
   "source": [
    "fires['month'] = fires['month'].map(month_dict)\n",
    "fires['day'] = fires['day'].map(day_dict)"
   ]
  },
  {
   "cell_type": "code",
   "execution_count": 14,
   "metadata": {},
   "outputs": [
    {
     "name": "stdout",
     "output_type": "stream",
     "text": [
      "int64\n",
      "int64\n"
     ]
    }
   ],
   "source": [
    "print(fires.month.dtype)\n",
    "print(fires.day.dtype)"
   ]
  },
  {
   "cell_type": "markdown",
   "metadata": {},
   "source": [
    "#### Imputation"
   ]
  },
  {
   "cell_type": "code",
   "execution_count": 15,
   "metadata": {},
   "outputs": [],
   "source": [
    "fire_new = fires.drop(['area','Unnamed: 0', 'log_area'],axis = 1)\n",
    "imp = SimpleImputer(missing_values = np.nan, strategy = 'mean')\n",
    "imp_df = imp.fit_transform(fire_new)\n",
    "\n",
    "#convert the output to a dataframe\n",
    "fires_df = pd.DataFrame(imp_df, columns = fire_new.columns)"
   ]
  },
  {
   "cell_type": "code",
   "execution_count": 16,
   "metadata": {},
   "outputs": [
    {
     "data": {
      "text/html": [
       "<div>\n",
       "<style scoped>\n",
       "    .dataframe tbody tr th:only-of-type {\n",
       "        vertical-align: middle;\n",
       "    }\n",
       "\n",
       "    .dataframe tbody tr th {\n",
       "        vertical-align: top;\n",
       "    }\n",
       "\n",
       "    .dataframe thead th {\n",
       "        text-align: right;\n",
       "    }\n",
       "</style>\n",
       "<table border=\"1\" class=\"dataframe\">\n",
       "  <thead>\n",
       "    <tr style=\"text-align: right;\">\n",
       "      <th></th>\n",
       "      <th>X</th>\n",
       "      <th>Y</th>\n",
       "      <th>month</th>\n",
       "      <th>day</th>\n",
       "      <th>FFMC</th>\n",
       "      <th>DMC</th>\n",
       "      <th>DC</th>\n",
       "      <th>ISI</th>\n",
       "      <th>temp</th>\n",
       "      <th>RH</th>\n",
       "      <th>wind</th>\n",
       "      <th>rain</th>\n",
       "    </tr>\n",
       "  </thead>\n",
       "  <tbody>\n",
       "    <tr>\n",
       "      <th>0</th>\n",
       "      <td>7.0</td>\n",
       "      <td>5.0</td>\n",
       "      <td>3.0</td>\n",
       "      <td>5.0</td>\n",
       "      <td>86.2</td>\n",
       "      <td>26.200000</td>\n",
       "      <td>94.300000</td>\n",
       "      <td>5.1</td>\n",
       "      <td>18.884677</td>\n",
       "      <td>51.0</td>\n",
       "      <td>6.7</td>\n",
       "      <td>0.0</td>\n",
       "    </tr>\n",
       "    <tr>\n",
       "      <th>1</th>\n",
       "      <td>7.0</td>\n",
       "      <td>4.0</td>\n",
       "      <td>10.0</td>\n",
       "      <td>2.0</td>\n",
       "      <td>90.6</td>\n",
       "      <td>111.195363</td>\n",
       "      <td>669.100000</td>\n",
       "      <td>6.7</td>\n",
       "      <td>18.000000</td>\n",
       "      <td>33.0</td>\n",
       "      <td>0.9</td>\n",
       "      <td>0.0</td>\n",
       "    </tr>\n",
       "    <tr>\n",
       "      <th>2</th>\n",
       "      <td>7.0</td>\n",
       "      <td>4.0</td>\n",
       "      <td>10.0</td>\n",
       "      <td>6.0</td>\n",
       "      <td>90.6</td>\n",
       "      <td>43.700000</td>\n",
       "      <td>550.673418</td>\n",
       "      <td>6.7</td>\n",
       "      <td>14.600000</td>\n",
       "      <td>33.0</td>\n",
       "      <td>1.3</td>\n",
       "      <td>0.0</td>\n",
       "    </tr>\n",
       "  </tbody>\n",
       "</table>\n",
       "</div>"
      ],
      "text/plain": [
       "     X    Y  month  day  FFMC         DMC          DC  ISI       temp    RH  \\\n",
       "0  7.0  5.0    3.0  5.0  86.2   26.200000   94.300000  5.1  18.884677  51.0   \n",
       "1  7.0  4.0   10.0  2.0  90.6  111.195363  669.100000  6.7  18.000000  33.0   \n",
       "2  7.0  4.0   10.0  6.0  90.6   43.700000  550.673418  6.7  14.600000  33.0   \n",
       "\n",
       "   wind  rain  \n",
       "0   6.7   0.0  \n",
       "1   0.9   0.0  \n",
       "2   1.3   0.0  "
      ]
     },
     "execution_count": 16,
     "metadata": {},
     "output_type": "execute_result"
    }
   ],
   "source": [
    "fires_df.head(3)"
   ]
  },
  {
   "cell_type": "code",
   "execution_count": 17,
   "metadata": {},
   "outputs": [
    {
     "data": {
      "text/plain": [
       "X        0\n",
       "Y        0\n",
       "month    0\n",
       "day      0\n",
       "FFMC     0\n",
       "DMC      0\n",
       "DC       0\n",
       "ISI      0\n",
       "temp     0\n",
       "RH       0\n",
       "wind     0\n",
       "rain     0\n",
       "dtype: int64"
      ]
     },
     "execution_count": 17,
     "metadata": {},
     "output_type": "execute_result"
    }
   ],
   "source": [
    "#Check the null values\n",
    "fires_df.isnull().sum()"
   ]
  },
  {
   "cell_type": "markdown",
   "metadata": {},
   "source": [
    "#### Handling outliers"
   ]
  },
  {
   "cell_type": "code",
   "execution_count": 18,
   "metadata": {},
   "outputs": [
    {
     "data": {
      "text/plain": [
       "<AxesSubplot:>"
      ]
     },
     "execution_count": 18,
     "metadata": {},
     "output_type": "execute_result"
    },
    {
     "data": {
      "image/png": "[encoded data removed]",
      "text/plain": [
       "<Figure size 640x480 with 1 Axes>"
      ]
     },
     "metadata": {},
     "output_type": "display_data"
    }
   ],
   "source": [
    "fires_df.boxplot(column = ['X','Y','month','day','FFMC','DMC','DC','ISI','temp','RH','wind','rain'])"
   ]
  },
  {
   "cell_type": "markdown",
   "metadata": {},
   "source": [
    "From the above we can see there is some outliers, we will calculate the outliers"
   ]
  },
  {
   "cell_type": "code",
   "execution_count": 19,
   "metadata": {},
   "outputs": [
    {
     "name": "stdout",
     "output_type": "stream",
     "text": [
      "The X column has 0 outliers according to the boxplot method\n",
      "The Y column has 51 outliers according to the boxplot method\n",
      "The month column has 76 outliers according to the boxplot method\n",
      "The day column has 0 outliers according to the boxplot method\n",
      "The FFMC column has 68 outliers according to the boxplot method\n",
      "The DMC column has 22 outliers according to the boxplot method\n",
      "The DC column has 77 outliers according to the boxplot method\n",
      "The ISI column has 23 outliers according to the boxplot method\n",
      "The temp column has 20 outliers according to the boxplot method\n",
      "The RH column has 10 outliers according to the boxplot method\n",
      "The wind column has 12 outliers according to the boxplot method\n",
      "The rain column has 40 outliers according to the boxplot method\n"
     ]
    }
   ],
   "source": [
    "for col in fires_df:\n",
    "    quartiles = np.percentile(fires_df[col],[25, 50, 75])\n",
    "    iqr = quartiles[2] - quartiles[0]\n",
    "    lower_bound = quartiles[0] - (1.5 * iqr)\n",
    "    upper_bound = quartiles[2] + (1.5 * iqr)\n",
    "    num_outliers = sum((fires_df[col] < lower_bound) | (fires_df[col] > upper_bound))\n",
    "    \n",
    "    print(f'The {col} column has {num_outliers} outliers according to the boxplot method')   "
   ]
  },
  {
   "cell_type": "markdown",
   "metadata": {},
   "source": [
    "From the above we can see there is some outliers. We will use KNN imputation and calculate the outliers again."
   ]
  },
  {
   "cell_type": "code",
   "execution_count": 20,
   "metadata": {},
   "outputs": [],
   "source": [
    "#using KNN Imputer\n",
    "imp = KNNImputer(missing_values = np.nan, n_neighbors = 3)\n",
    "knn_imputed = imp.fit_transform(fire_new)\n",
    "fire_knn_df = pd.DataFrame(knn_imputed, columns = fire_new.columns)"
   ]
  },
  {
   "cell_type": "code",
   "execution_count": 21,
   "metadata": {},
   "outputs": [
    {
     "name": "stdout",
     "output_type": "stream",
     "text": [
      "The X column has 0 outliers in the dataset\n",
      "The Y column has 0 outliers in the dataset\n",
      "The month column has 0 outliers in the dataset\n",
      "The day column has 0 outliers in the dataset\n",
      "The FFMC column has 0 outliers in the dataset\n",
      "The DMC column has 0 outliers in the dataset\n",
      "The DC column has 0 outliers in the dataset\n",
      "The ISI column has 1 outliers in the dataset\n",
      "The temp column has 0 outliers in the dataset\n",
      "The RH column has 0 outliers in the dataset\n",
      "The wind column has 0 outliers in the dataset\n",
      "The rain column has 8 outliers in the dataset\n"
     ]
    }
   ],
   "source": [
    "#calculate the outliers\n",
    "for col in fire_knn_df:\n",
    "    quartiles = np.percentile(fire_knn_df[col], [0,25,75])\n",
    "    iqr = quartiles[2] - quartiles[0]\n",
    "    lower_bound = quartiles[0] - (1.5 * iqr)\n",
    "    upper_bound = quartiles[2] + (1.5 * iqr)\n",
    "    outliers = sum((fire_knn_df[col] < lower_bound) | (fire_knn_df[col] > upper_bound))\n",
    "    \n",
    "    print(f'The {col} column has {outliers} outliers in the dataset')\n",
    "    "
   ]
  },
  {
   "cell_type": "code",
   "execution_count": 22,
   "metadata": {},
   "outputs": [
    {
     "data": {
      "text/html": [
       "<div>\n",
       "<style scoped>\n",
       "    .dataframe tbody tr th:only-of-type {\n",
       "        vertical-align: middle;\n",
       "    }\n",
       "\n",
       "    .dataframe tbody tr th {\n",
       "        vertical-align: top;\n",
       "    }\n",
       "\n",
       "    .dataframe thead th {\n",
       "        text-align: right;\n",
       "    }\n",
       "</style>\n",
       "<table border=\"1\" class=\"dataframe\">\n",
       "  <thead>\n",
       "    <tr style=\"text-align: right;\">\n",
       "      <th></th>\n",
       "      <th>X</th>\n",
       "      <th>Y</th>\n",
       "      <th>month</th>\n",
       "      <th>day</th>\n",
       "      <th>FFMC</th>\n",
       "      <th>DMC</th>\n",
       "      <th>DC</th>\n",
       "      <th>ISI</th>\n",
       "      <th>temp</th>\n",
       "      <th>RH</th>\n",
       "      <th>wind</th>\n",
       "      <th>rain</th>\n",
       "    </tr>\n",
       "  </thead>\n",
       "  <tbody>\n",
       "    <tr>\n",
       "      <th>0</th>\n",
       "      <td>1.008313</td>\n",
       "      <td>0.569860</td>\n",
       "      <td>-1.968443</td>\n",
       "      <td>0.357721</td>\n",
       "      <td>-0.812861</td>\n",
       "      <td>-1.334681</td>\n",
       "      <td>-1.849500</td>\n",
       "      <td>-0.860187</td>\n",
       "      <td>-0.406562</td>\n",
       "      <td>0.425177</td>\n",
       "      <td>1.515212</td>\n",
       "      <td>-0.073268</td>\n",
       "    </tr>\n",
       "    <tr>\n",
       "      <th>1</th>\n",
       "      <td>1.008313</td>\n",
       "      <td>-0.244001</td>\n",
       "      <td>1.110120</td>\n",
       "      <td>-1.090909</td>\n",
       "      <td>-0.010894</td>\n",
       "      <td>-0.746036</td>\n",
       "      <td>0.493285</td>\n",
       "      <td>-0.508736</td>\n",
       "      <td>-0.162787</td>\n",
       "      <td>-0.709197</td>\n",
       "      <td>-1.757506</td>\n",
       "      <td>-0.073268</td>\n",
       "    </tr>\n",
       "    <tr>\n",
       "      <th>2</th>\n",
       "      <td>1.008313</td>\n",
       "      <td>-0.244001</td>\n",
       "      <td>1.110120</td>\n",
       "      <td>0.840597</td>\n",
       "      <td>-0.010894</td>\n",
       "      <td>-1.059245</td>\n",
       "      <td>0.548309</td>\n",
       "      <td>-0.508736</td>\n",
       "      <td>-0.754813</td>\n",
       "      <td>-0.709197</td>\n",
       "      <td>-1.531801</td>\n",
       "      <td>-0.073268</td>\n",
       "    </tr>\n",
       "  </tbody>\n",
       "</table>\n",
       "</div>"
      ],
      "text/plain": [
       "          X         Y     month       day      FFMC       DMC        DC  \\\n",
       "0  1.008313  0.569860 -1.968443  0.357721 -0.812861 -1.334681 -1.849500   \n",
       "1  1.008313 -0.244001  1.110120 -1.090909 -0.010894 -0.746036  0.493285   \n",
       "2  1.008313 -0.244001  1.110120  0.840597 -0.010894 -1.059245  0.548309   \n",
       "\n",
       "        ISI      temp        RH      wind      rain  \n",
       "0 -0.860187 -0.406562  0.425177  1.515212 -0.073268  \n",
       "1 -0.508736 -0.162787 -0.709197 -1.757506 -0.073268  \n",
       "2 -0.508736 -0.754813 -0.709197 -1.531801 -0.073268  "
      ]
     },
     "execution_count": 22,
     "metadata": {},
     "output_type": "execute_result"
    }
   ],
   "source": [
    "#Now we will standadize the data\n",
    "scaler = StandardScaler()\n",
    "scaled = scaler.fit_transform(fire_knn_df)\n",
    "scaled = pd.DataFrame(scaled, columns = fire_knn_df.columns)\n",
    "\n",
    "final_df = scaled.copy()\n",
    "final_df.head(3)"
   ]
  },
  {
   "cell_type": "markdown",
   "metadata": {},
   "source": [
    "### Subset Selection"
   ]
  },
  {
   "cell_type": "code",
   "execution_count": 23,
   "metadata": {},
   "outputs": [
    {
     "name": "stdout",
     "output_type": "stream",
     "text": [
      "Features selected in feature 2 model is: ['X' 'month']\n",
      "Features selected in feature 4 model is: ['X' 'month' 'FFMC' 'wind']\n",
      "Features selected in feature 6 model is: ['X' 'month' 'day' 'FFMC' 'RH' 'wind']\n"
     ]
    }
   ],
   "source": [
    "y = fires['log_area']\n",
    "\n",
    "sfs_model = LinearRegression()\n",
    "sfs_model2 = LinearRegression()\n",
    "sfs_model3 = LinearRegression()\n",
    "\n",
    "forward2 = SequentialFeatureSelector(estimator = sfs_model , n_features_to_select = 2, direction = 'forward')\n",
    "forward4 = SequentialFeatureSelector(estimator = sfs_model2 , n_features_to_select = 4, direction = 'forward')\n",
    "forward6 = SequentialFeatureSelector(estimator = sfs_model3 , n_features_to_select = 6, direction = 'forward')\n",
    "\n",
    "forward2.fit(final_df, y)\n",
    "forward4.fit(final_df, y)\n",
    "forward6.fit(final_df, y)\n",
    "\n",
    "print('Features selected in feature 2 model is:',forward2.get_feature_names_out())\n",
    "print('Features selected in feature 4 model is:',forward4.get_feature_names_out())\n",
    "print('Features selected in feature 6 model is:',forward6.get_feature_names_out())"
   ]
  },
  {
   "cell_type": "code",
   "execution_count": 24,
   "metadata": {},
   "outputs": [
    {
     "name": "stdout",
     "output_type": "stream",
     "text": [
      "Features selected in feature 2 model is: ['X' 'DC']\n",
      "Features selected in feature 4 model is: ['X' 'FFMC' 'DC' 'wind']\n",
      "Features selected in feature 6 model is: ['X' 'day' 'FFMC' 'DC' 'RH' 'wind']\n"
     ]
    }
   ],
   "source": [
    "backward2 = SequentialFeatureSelector(estimator = sfs_model , n_features_to_select = 2, direction = 'backward')\n",
    "backward4 = SequentialFeatureSelector(estimator = sfs_model , n_features_to_select = 4, direction = 'backward')\n",
    "backward6 = SequentialFeatureSelector(estimator = sfs_model , n_features_to_select = 6, direction = 'backward')\n",
    "\n",
    "backward2.fit(final_df, y)\n",
    "backward4.fit(final_df, y)\n",
    "backward6.fit(final_df, y)\n",
    "\n",
    "print('Features selected in feature 2 model is:',backward2.get_feature_names_out())\n",
    "print('Features selected in feature 4 model is:',backward4.get_feature_names_out())\n",
    "print('Features selected in feature 6 model is:',backward6.get_feature_names_out())"
   ]
  },
  {
   "cell_type": "markdown",
   "metadata": {},
   "source": [
    "from the above we can see that the columns X, wind, FFMC seems to be the the columns which could the predict the area."
   ]
  },
  {
   "cell_type": "code",
   "execution_count": 25,
   "metadata": {},
   "outputs": [],
   "source": [
    "fw2_model = LinearRegression()\n",
    "fw4_model = LinearRegression()\n",
    "fw6_model = LinearRegression()\n",
    "\n",
    "bw2_model = LinearRegression()\n",
    "bw4_model = LinearRegression()\n",
    "bw6_model = LinearRegression()"
   ]
  },
  {
   "cell_type": "markdown",
   "metadata": {},
   "source": [
    "### More Candidate Models"
   ]
  },
  {
   "cell_type": "code",
   "execution_count": 26,
   "metadata": {},
   "outputs": [
    {
     "name": "stdout",
     "output_type": "stream",
     "text": [
      "Ridge tuning parameter:  1312.1801801801803\n",
      "LASSO tuning parameter:  10000.0\n",
      "Ridge coefficients:  [ 0.02405061  0.01321725  0.03897012  0.00083947  0.01148302  0.01792328\n",
      "  0.01355345 -0.01261413  0.0093364  -0.0177411   0.02666696  0.00790259]\n",
      "LASSO coefficients:  [ 0.  0.  0.  0.  0.  0.  0. -0.  0. -0.  0.  0.]\n"
     ]
    }
   ],
   "source": [
    "from sklearn.linear_model import LassoCV, RidgeCV\n",
    "\n",
    "ridge = RidgeCV(alphas = np.linspace(1, 10000, num=1000))\n",
    "lasso = LassoCV(alphas = np.linspace(1, 10000, num=1000))\n",
    "\n",
    "ridge.fit(final_df, y)\n",
    "lasso.fit(final_df, y)\n",
    "\n",
    "print(\"Ridge tuning parameter: \", ridge.alpha_)\n",
    "print(\"LASSO tuning parameter: \", lasso.alpha_)\n",
    "\n",
    "print(\"Ridge coefficients: \", ridge.coef_)\n",
    "print(\"LASSO coefficients: \", lasso.coef_)"
   ]
  },
  {
   "cell_type": "code",
   "execution_count": 27,
   "metadata": {},
   "outputs": [
    {
     "name": "stdout",
     "output_type": "stream",
     "text": [
      "Ridge tuning parameter:  1311.3113113113113\n"
     ]
    }
   ],
   "source": [
    "ridge = RidgeCV(alphas = np.linspace(1000, 1500, num=1000))\n",
    "ridge.fit(final_df, y)\n",
    "print(\"Ridge tuning parameter: \", ridge.alpha_)"
   ]
  },
  {
   "cell_type": "markdown",
   "metadata": {},
   "source": [
    "### K-Fold Cross-Validation"
   ]
  },
  {
   "cell_type": "code",
   "execution_count": 28,
   "metadata": {},
   "outputs": [],
   "source": [
    "from sklearn.model_selection import cross_val_score\n",
    "reference = LinearRegression()\n",
    "reference_cv = cross_val_score(reference, final_df[['wind','temp']], y, cv = 5, scoring = \"neg_mean_squared_error\")\n",
    "fw2_cv = cross_val_score(fw2_model,final_df[forward2.get_feature_names_out()],y,cv = 5, scoring = \"neg_mean_squared_error\")\n",
    "fw4_cv = cross_val_score(fw4_model,final_df[forward4.get_feature_names_out()],y,cv = 5, scoring = \"neg_mean_squared_error\")\n",
    "fw6_cv = cross_val_score(fw6_model,final_df[forward6.get_feature_names_out()],y,cv = 5, scoring = \"neg_mean_squared_error\")\n",
    "bw2_cv = cross_val_score(bw2_model,final_df[backward2.get_feature_names_out()],y,cv = 5, scoring = \"neg_mean_squared_error\")\n",
    "bw4_cv = cross_val_score(bw4_model,final_df[backward4.get_feature_names_out()],y,cv = 5, scoring = \"neg_mean_squared_error\")\n",
    "bw6_cv = cross_val_score(bw6_model,final_df[backward6.get_feature_names_out()],y,cv = 5, scoring = \"neg_mean_squared_error\")\n",
    "\n",
    "ridge_cv = cross_val_score(ridge, final_df, y, cv = 5, scoring = \"neg_mean_squared_error\")"
   ]
  },
  {
   "cell_type": "code",
   "execution_count": 29,
   "metadata": {},
   "outputs": [
    {
     "name": "stdout",
     "output_type": "stream",
     "text": [
      "Reference Model, Average Test MSE:  -2.2068857615497146  SD:  1.0617062096101075\n",
      "Forward-2 Model, Average Test MSE:  -2.161782595453161  SD:  0.9917131932776126\n",
      "Forward-4 Model, Average Test MSE:  -2.164106836590128  SD:  0.9788837522851868\n",
      "Forward-6 Model, Average Test MSE:  -2.189774539136042  SD:  0.9793016035110148\n",
      "Backward-2 Model, Average Test MSE:  -2.16879641228092  SD:  1.022212284267364\n",
      "Backward-4 Model, Average Test MSE:  -2.1688083895987216  SD:  1.0026266173196383\n",
      "Backward-6 Model, Average Test MSE:  -2.192888902547586  SD:  0.9997469989928984\n",
      "Ridge Model, Average Test MSE:  -2.192888902547586  SD:  0.9997469989928984\n"
     ]
    }
   ],
   "source": [
    "print(\"Reference Model, Average Test MSE: \", np.mean(reference_cv), \" SD: \", np.std(reference_cv))\n",
    "print(\"Forward-2 Model, Average Test MSE: \", np.mean(fw2_cv), \" SD: \", np.std(fw2_cv))\n",
    "print(\"Forward-4 Model, Average Test MSE: \", np.mean(fw4_cv), \" SD: \", np.std(fw4_cv))\n",
    "print(\"Forward-6 Model, Average Test MSE: \", np.mean(fw6_cv), \" SD: \", np.std(fw6_cv))\n",
    "print(\"Backward-2 Model, Average Test MSE: \", np.mean(bw2_cv), \" SD: \", np.std(bw2_cv))\n",
    "print(\"Backward-4 Model, Average Test MSE: \", np.mean(bw4_cv), \" SD: \", np.std(bw4_cv))\n",
    "print(\"Backward-6 Model, Average Test MSE: \", np.mean(bw6_cv), \" SD: \", np.std(bw6_cv))\n",
    "print(\"Ridge Model, Average Test MSE: \", np.mean(bw6_cv), \" SD: \", np.std(bw6_cv))"
   ]
  },
  {
   "cell_type": "code",
   "execution_count": null,
   "metadata": {},
   "outputs": [],
   "source": []
  }
 ],
 "metadata": {
  "kernelspec": {
   "display_name": "Python 3 (ipykernel)",
   "language": "python",
   "name": "python3"
  },
  "language_info": {
   "codemirror_mode": {
    "name": "ipython",
    "version": 3
   },
   "file_extension": ".py",
   "mimetype": "text/x-python",
   "name": "python",
   "nbconvert_exporter": "python",
   "pygments_lexer": "ipython3",
   "version": "3.10.6"
  }
 },
 "nbformat": 4,
 "nbformat_minor": 4
}
